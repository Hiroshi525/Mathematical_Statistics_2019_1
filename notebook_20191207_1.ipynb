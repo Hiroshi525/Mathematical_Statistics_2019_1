{
  "nbformat": 4,
  "nbformat_minor": 0,
  "metadata": {
    "colab": {
      "name": "notebook_20191207_1.ipynb",
      "provenance": [],
      "include_colab_link": true
    },
    "kernelspec": {
      "name": "python3",
      "display_name": "Python 3"
    }
  },
  "cells": [
    {
      "cell_type": "markdown",
      "metadata": {
        "id": "view-in-github",
        "colab_type": "text"
      },
      "source": [
        "<a href=\"https://colab.research.google.com/github/Hiroshi525/Mathematical_Statistics_2019_1/blob/master/notebook_20191207_1.ipynb\" target=\"_parent\"><img src=\"https://colab.research.google.com/assets/colab-badge.svg\" alt=\"Open In Colab\"/></a>"
      ]
    },
    {
      "cell_type": "code",
      "metadata": {
        "id": "tmSBcTfr58m0",
        "colab_type": "code",
        "colab": {}
      },
      "source": [
        ""
      ],
      "execution_count": 0,
      "outputs": []
    },
    {
      "cell_type": "markdown",
      "metadata": {
        "id": "pe8v1f5d6DlH",
        "colab_type": "text"
      },
      "source": [
        "# AI研修　2019年12月14日\n",
        "## 本日のスケジュール\n",
        "### Google Colaboratory入門\n",
        "### マルチメディア技術\n",
        "### 機械学習\n",
        "### ディープラーニング\n"
      ]
    },
    {
      "cell_type": "code",
      "metadata": {
        "id": "TawQMxWs6g2d",
        "colab_type": "code",
        "outputId": "b7beffc2-44c5-4282-f569-928edbf5c959",
        "colab": {
          "base_uri": "https://localhost:8080/",
          "height": 34
        }
      },
      "source": [
        "print('AI研修へようこそ！')"
      ],
      "execution_count": 0,
      "outputs": [
        {
          "output_type": "stream",
          "text": [
            "AI研修へようこそ！\n"
          ],
          "name": "stdout"
        }
      ]
    },
    {
      "cell_type": "code",
      "metadata": {
        "id": "9olBj8z46y5l",
        "colab_type": "code",
        "outputId": "1388a525-9a65-44a5-9312-59fe54ffcde5",
        "colab": {
          "base_uri": "https://localhost:8080/",
          "height": 34
        }
      },
      "source": [
        "!ls"
      ],
      "execution_count": 0,
      "outputs": [
        {
          "output_type": "stream",
          "text": [
            "sample_data\n"
          ],
          "name": "stdout"
        }
      ]
    },
    {
      "cell_type": "code",
      "metadata": {
        "id": "_zAQOvPL7Xmu",
        "colab_type": "code",
        "outputId": "957f4658-4be9-4cb4-e946-22af753a82c2",
        "colab": {
          "base_uri": "https://localhost:8080/",
          "height": 642
        }
      },
      "source": [
        "!ls /etc"
      ],
      "execution_count": 0,
      "outputs": [
        {
          "output_type": "stream",
          "text": [
            "adduser.conf\t\tgtk-2.0\t\t mime.types\t  rc3.d\n",
            "alternatives\t\tgtk-3.0\t\t mke2fs.conf\t  rc4.d\n",
            "apparmor.d\t\thost.conf\t modprobe.d\t  rc5.d\n",
            "apt\t\t\thostname\t modules\t  rc6.d\n",
            "bash.bashrc\t\thosts\t\t modules-load.d   rcS.d\n",
            "bash_completion.d\thosts.allow\t mtab\t\t  resolv.conf\n",
            "bindresvport.blacklist\thosts.deny\t mysql\t\t  rmt\n",
            "binfmt.d\t\tinit.d\t\t networks\t  securetty\n",
            "ca-certificates\t\tinputrc\t\t nsswitch.conf\t  security\n",
            "ca-certificates.conf\tipython\t\t ODBCDataSources  selinux\n",
            "calendar\t\tissue\t\t odbc.ini\t  sensors3.conf\n",
            "cron.daily\t\tissue.net\t odbcinst.ini\t  sensors.d\n",
            "cron.weekly\t\tjava-11-openjdk  openal\t\t  shadow\n",
            "dbus-1\t\t\tjava-8-openjdk\t OpenCL\t\t  shadow-\n",
            "debconf.conf\t\tjupyter\t\t openmpi\t  shells\n",
            "debian_version\t\tkernel\t\t opt\t\t  skel\n",
            "default\t\t\tldap\t\t os-release\t  ssh\n",
            "deluser.conf\t\tld.so.cache\t pam.conf\t  ssl\n",
            "depmod.d\t\tld.so.conf\t pam.d\t\t  subgid\n",
            "dhcp\t\t\tld.so.conf.d\t papersize\t  subuid\n",
            "dkms\t\t\tlegal\t\t passwd\t\t  sudoers\n",
            "dpkg\t\t\tlibaudit.conf\t passwd-\t  sudoers.d\n",
            "emacs\t\t\tlibibverbs.d\t perl\t\t  sysctl.conf\n",
            "environment\t\tlibnl-3\t\t pip.conf\t  sysctl.d\n",
            "ffserver.conf\t\tlibpaper.d\t polkit-1\t  systemd\n",
            "fonts\t\t\tlocale.alias\t profile\t  terminfo\n",
            "fstab\t\t\tlocale.gen\t profile.d\t  timezone\n",
            "fuse.conf\t\tlocaltime\t pulse\t\t  tmpfiles.d\n",
            "gai.conf\t\tlogcheck\t python\t\t  ucf.conf\n",
            "glvnd\t\t\tlogin.defs\t python2.7\t  udev\n",
            "groff\t\t\tlogrotate.d\t python3\t  update-motd.d\n",
            "group\t\t\tlsb-release\t python3.6\t  vdpau_wrapper.cfg\n",
            "group-\t\t\tmachine-id\t R\t\t  wgetrc\n",
            "gshadow\t\t\tmailcap\t\t rc0.d\t\t  X11\n",
            "gshadow-\t\tmailcap.order\t rc1.d\t\t  xdg\n",
            "gss\t\t\tmanpath.config\t rc2.d\n"
          ],
          "name": "stdout"
        }
      ]
    },
    {
      "cell_type": "code",
      "metadata": {
        "id": "XtOVfoXF7aXN",
        "colab_type": "code",
        "outputId": "4491b8a9-9fb4-4841-ec93-8b4be1d9d57f",
        "colab": {
          "base_uri": "https://localhost:8080/",
          "height": 34
        }
      },
      "source": [
        "2 + 4"
      ],
      "execution_count": 0,
      "outputs": [
        {
          "output_type": "execute_result",
          "data": {
            "text/plain": [
              "6"
            ]
          },
          "metadata": {
            "tags": []
          },
          "execution_count": 6
        }
      ]
    },
    {
      "cell_type": "code",
      "metadata": {
        "id": "hmt36MeV7oWc",
        "colab_type": "code",
        "outputId": "8ff98695-ebbb-4997-de4c-a112d3700502",
        "colab": {
          "base_uri": "https://localhost:8080/",
          "height": 34
        }
      },
      "source": [
        "print('2+4')"
      ],
      "execution_count": 0,
      "outputs": [
        {
          "output_type": "stream",
          "text": [
            "2+4\n"
          ],
          "name": "stdout"
        }
      ]
    },
    {
      "cell_type": "code",
      "metadata": {
        "id": "6YZrCLw47sJ2",
        "colab_type": "code",
        "outputId": "c8764532-82fc-48ec-d312-62a747e92c80",
        "colab": {
          "base_uri": "https://localhost:8080/",
          "height": 34
        }
      },
      "source": [
        "print(2+4)"
      ],
      "execution_count": 0,
      "outputs": [
        {
          "output_type": "stream",
          "text": [
            "6\n"
          ],
          "name": "stdout"
        }
      ]
    },
    {
      "cell_type": "code",
      "metadata": {
        "id": "3stfrGmA7vV9",
        "colab_type": "code",
        "colab": {}
      },
      "source": [
        "def addition(x, y):\n",
        "  return x+y"
      ],
      "execution_count": 0,
      "outputs": []
    },
    {
      "cell_type": "code",
      "metadata": {
        "id": "G6S6wO6a72dl",
        "colab_type": "code",
        "outputId": "fe042112-1776-46de-cafe-7472acd9cb84",
        "colab": {
          "base_uri": "https://localhost:8080/",
          "height": 34
        }
      },
      "source": [
        "addition(19, 21)"
      ],
      "execution_count": 0,
      "outputs": [
        {
          "output_type": "execute_result",
          "data": {
            "text/plain": [
              "40"
            ]
          },
          "metadata": {
            "tags": []
          },
          "execution_count": 10
        }
      ]
    },
    {
      "cell_type": "code",
      "metadata": {
        "id": "XDoyMDlj75MF",
        "colab_type": "code",
        "colab": {}
      },
      "source": [
        ""
      ],
      "execution_count": 0,
      "outputs": []
    }
  ]
}